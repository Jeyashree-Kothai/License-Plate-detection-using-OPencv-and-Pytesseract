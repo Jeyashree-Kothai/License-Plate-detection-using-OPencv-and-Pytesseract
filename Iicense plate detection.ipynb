{
 "cells": [
  {
   "cell_type": "markdown",
   "metadata": {},
   "source": [
    "# License plate detection"
   ]
  },
  {
   "cell_type": "code",
   "execution_count": 9,
   "metadata": {},
   "outputs": [
    {
     "name": "stdout",
     "output_type": "stream",
     "text": [
      "License Plate : ZG 3254-D\n"
     ]
    },
    {
     "data": {
      "text/plain": [
       "-1"
      ]
     },
     "execution_count": 9,
     "metadata": {},
     "output_type": "execute_result"
    }
   ],
   "source": [
    "import cv2\n",
    "import pytesseract\n",
    "\n",
    "# Read the image file\n",
    "image = cv2.imread('car_img.jpg')\n",
    "# Convert to Grayscale Image\n",
    "gray_image = cv2.cvtColor(image, cv2.COLOR_BGR2GRAY)\n",
    "\n",
    "#Canny Edge Detection\n",
    "canny_edge = cv2.Canny(gray_image, 170, 200)\n",
    "\n",
    "# Find contours based on Edges\n",
    "contours, new  = cv2.findContours(canny_edge.copy(), cv2.RETR_LIST, cv2.CHAIN_APPROX_SIMPLE)\n",
    "contours=sorted(contours, key = cv2.contourArea, reverse = True)[:30]\n",
    "\n",
    "# Initialize license Plate contour and x,y coordinates\n",
    "contour_with_license_plate = None\n",
    "license_plate = None\n",
    "x = None\n",
    "y = None\n",
    "w = None\n",
    "h = None\n",
    "\n",
    "# Find the contour with 4 potential corners and creat ROI around it\n",
    "for contour in contours:\n",
    "        # Find Perimeter of contour and it should be a closed contour\n",
    "        perimeter = cv2.arcLength(contour, True)\n",
    "        approx = cv2.approxPolyDP(contour, 0.01 * perimeter, True)\n",
    "        if len(approx) == 4: #see whether it is a Rect\n",
    "            contour_with_license_plate = approx\n",
    "            x, y, w, h = cv2.boundingRect(contour)\n",
    "            license_plate = gray_image[y:y + h, x:x + w]\n",
    "            break\n",
    "\n",
    "# Removing Noise from the detected image, before sending to Tesseract\n",
    "license_plate = cv2.bilateralFilter(license_plate, 11, 17, 17)\n",
    "(thresh, license_plate) = cv2.threshold(license_plate, 150 , 180, cv2.THRESH_BINARY)\n",
    "#license_plate= cv2.GaussianBlur(license_plate,(5,5),cv2.BORDER_ISOLATED)\n",
    "#cv2.GaussianBlur\n",
    "\n",
    "\n",
    "#Text Recognition\n",
    "text = pytesseract.image_to_string(license_plate , lang='Eng',config=\"--psm 7\")\n",
    "text = text[0:9]\n",
    "#print(test)\n",
    "#Draw License Plate and write the Text\n",
    "image = cv2.rectangle(image, (x,y), (x+w,y+h), (0,0,255), 3) \n",
    "image = cv2.putText(image, text, (x-100,y-50), cv2.FONT_HERSHEY_SIMPLEX, 3, (0,255,0), 6, cv2.LINE_AA)\n",
    "\n",
    "print(\"License Plate :\", text)\n",
    "\n",
    "cv2.imshow(\"License Plate Detection\",image)\n",
    "cv2.imwrite('LIC plate.jpg' , image)\n",
    "cv2.waitKey(0)"
   ]
  },
  {
   "cell_type": "code",
   "execution_count": null,
   "metadata": {},
   "outputs": [],
   "source": []
  },
  {
   "cell_type": "code",
   "execution_count": null,
   "metadata": {},
   "outputs": [],
   "source": []
  },
  {
   "cell_type": "code",
   "execution_count": null,
   "metadata": {},
   "outputs": [],
   "source": []
  },
  {
   "cell_type": "code",
   "execution_count": null,
   "metadata": {},
   "outputs": [],
   "source": []
  }
 ],
 "metadata": {
  "kernelspec": {
   "display_name": "Python 3",
   "language": "python",
   "name": "python3"
  },
  "language_info": {
   "codemirror_mode": {
    "name": "ipython",
    "version": 3
   },
   "file_extension": ".py",
   "mimetype": "text/x-python",
   "name": "python",
   "nbconvert_exporter": "python",
   "pygments_lexer": "ipython3",
   "version": "3.8.2"
  }
 },
 "nbformat": 4,
 "nbformat_minor": 4
}
